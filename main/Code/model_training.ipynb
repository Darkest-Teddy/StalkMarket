{
  "cells": [
    {
      "cell_type": "code",
      "execution_count": 9,
      "metadata": {
        "colab": {
          "base_uri": "https://localhost:8080/"
        },
        "id": "eqU6MRdfRn3D",
        "outputId": "9d9177df-6f0c-4c1f-8370-4e33cb9b8f0e"
      },
      "outputs": [
        {
          "name": "stdout",
          "output_type": "stream",
          "text": [
            "Requirement already satisfied: yfinance in /opt/homebrew/lib/python3.11/site-packages (0.2.66)\n",
            "Requirement already satisfied: torch in /opt/homebrew/lib/python3.11/site-packages (2.8.0)\n",
            "Requirement already satisfied: transformers in /opt/homebrew/lib/python3.11/site-packages (4.57.1)\n",
            "Requirement already satisfied: pandas>=1.3.0 in /opt/homebrew/lib/python3.11/site-packages (from yfinance) (2.3.3)\n",
            "Requirement already satisfied: numpy>=1.16.5 in /opt/homebrew/lib/python3.11/site-packages (from yfinance) (2.3.3)\n",
            "Requirement already satisfied: requests>=2.31 in /opt/homebrew/lib/python3.11/site-packages (from yfinance) (2.32.5)\n",
            "Requirement already satisfied: multitasking>=0.0.7 in /opt/homebrew/lib/python3.11/site-packages (from yfinance) (0.0.12)\n",
            "Requirement already satisfied: platformdirs>=2.0.0 in /opt/homebrew/lib/python3.11/site-packages (from yfinance) (4.4.0)\n",
            "Requirement already satisfied: pytz>=2022.5 in /opt/homebrew/lib/python3.11/site-packages (from yfinance) (2025.2)\n",
            "Requirement already satisfied: frozendict>=2.3.4 in /opt/homebrew/lib/python3.11/site-packages (from yfinance) (2.4.6)\n",
            "Requirement already satisfied: peewee>=3.16.2 in /opt/homebrew/lib/python3.11/site-packages (from yfinance) (3.18.2)\n",
            "Requirement already satisfied: beautifulsoup4>=4.11.1 in /opt/homebrew/lib/python3.11/site-packages (from yfinance) (4.13.5)\n",
            "Requirement already satisfied: curl_cffi>=0.7 in /opt/homebrew/lib/python3.11/site-packages (from yfinance) (0.13.0)\n",
            "Requirement already satisfied: protobuf>=3.19.0 in /opt/homebrew/lib/python3.11/site-packages (from yfinance) (6.33.0)\n",
            "Requirement already satisfied: websockets>=13.0 in /opt/homebrew/lib/python3.11/site-packages (from yfinance) (15.0.1)\n",
            "Requirement already satisfied: filelock in /opt/homebrew/lib/python3.11/site-packages (from torch) (3.20.0)\n",
            "Requirement already satisfied: typing-extensions>=4.10.0 in /opt/homebrew/lib/python3.11/site-packages (from torch) (4.15.0)\n",
            "Requirement already satisfied: sympy>=1.13.3 in /opt/homebrew/lib/python3.11/site-packages (from torch) (1.14.0)\n",
            "Requirement already satisfied: networkx in /opt/homebrew/lib/python3.11/site-packages (from torch) (3.5)\n",
            "Requirement already satisfied: jinja2 in /opt/homebrew/lib/python3.11/site-packages (from torch) (3.1.6)\n",
            "Requirement already satisfied: fsspec in /opt/homebrew/lib/python3.11/site-packages (from torch) (2025.9.0)\n",
            "Requirement already satisfied: huggingface-hub<1.0,>=0.34.0 in /opt/homebrew/lib/python3.11/site-packages (from transformers) (0.36.0)\n",
            "Requirement already satisfied: packaging>=20.0 in /opt/homebrew/lib/python3.11/site-packages (from transformers) (25.0)\n",
            "Requirement already satisfied: pyyaml>=5.1 in /opt/homebrew/lib/python3.11/site-packages (from transformers) (6.0.2)\n",
            "Requirement already satisfied: regex!=2019.12.17 in /opt/homebrew/lib/python3.11/site-packages (from transformers) (2025.10.23)\n",
            "Requirement already satisfied: tokenizers<=0.23.0,>=0.22.0 in /opt/homebrew/lib/python3.11/site-packages (from transformers) (0.22.1)\n",
            "Requirement already satisfied: safetensors>=0.4.3 in /opt/homebrew/lib/python3.11/site-packages (from transformers) (0.6.2)\n",
            "Requirement already satisfied: tqdm>=4.27 in /opt/homebrew/lib/python3.11/site-packages (from transformers) (4.67.1)\n",
            "Requirement already satisfied: hf-xet<2.0.0,>=1.1.3 in /opt/homebrew/lib/python3.11/site-packages (from huggingface-hub<1.0,>=0.34.0->transformers) (1.2.0)\n",
            "Requirement already satisfied: soupsieve>1.2 in /opt/homebrew/lib/python3.11/site-packages (from beautifulsoup4>=4.11.1->yfinance) (2.8)\n",
            "Requirement already satisfied: cffi>=1.12.0 in /opt/homebrew/lib/python3.11/site-packages (from curl_cffi>=0.7->yfinance) (2.0.0)\n",
            "Requirement already satisfied: certifi>=2024.2.2 in /opt/homebrew/lib/python3.11/site-packages (from curl_cffi>=0.7->yfinance) (2025.8.3)\n",
            "Requirement already satisfied: pycparser in /opt/homebrew/lib/python3.11/site-packages (from cffi>=1.12.0->curl_cffi>=0.7->yfinance) (2.23)\n",
            "Requirement already satisfied: python-dateutil>=2.8.2 in /opt/homebrew/lib/python3.11/site-packages (from pandas>=1.3.0->yfinance) (2.9.0.post0)\n",
            "Requirement already satisfied: tzdata>=2022.7 in /opt/homebrew/lib/python3.11/site-packages (from pandas>=1.3.0->yfinance) (2025.2)\n",
            "Requirement already satisfied: six>=1.5 in /opt/homebrew/lib/python3.11/site-packages (from python-dateutil>=2.8.2->pandas>=1.3.0->yfinance) (1.17.0)\n",
            "Requirement already satisfied: charset_normalizer<4,>=2 in /opt/homebrew/lib/python3.11/site-packages (from requests>=2.31->yfinance) (3.4.3)\n",
            "Requirement already satisfied: idna<4,>=2.5 in /opt/homebrew/lib/python3.11/site-packages (from requests>=2.31->yfinance) (3.10)\n",
            "Requirement already satisfied: urllib3<3,>=1.21.1 in /opt/homebrew/lib/python3.11/site-packages (from requests>=2.31->yfinance) (2.5.0)\n",
            "Requirement already satisfied: mpmath<1.4,>=1.1.0 in /opt/homebrew/lib/python3.11/site-packages (from sympy>=1.13.3->torch) (1.3.0)\n",
            "Requirement already satisfied: MarkupSafe>=2.0 in /opt/homebrew/lib/python3.11/site-packages (from jinja2->torch) (3.0.2)\n",
            "\n",
            "\u001b[1m[\u001b[0m\u001b[34;49mnotice\u001b[0m\u001b[1;39;49m]\u001b[0m\u001b[39;49m A new release of pip is available: \u001b[0m\u001b[31;49m25.2\u001b[0m\u001b[39;49m -> \u001b[0m\u001b[32;49m25.3\u001b[0m\n",
            "\u001b[1m[\u001b[0m\u001b[34;49mnotice\u001b[0m\u001b[1;39;49m]\u001b[0m\u001b[39;49m To update, run: \u001b[0m\u001b[32;49m/opt/homebrew/opt/python@3.11/bin/python3.11 -m pip install --upgrade pip\u001b[0m\n",
            "Requirement already satisfied: transformers in /opt/homebrew/lib/python3.11/site-packages (4.57.1)\n",
            "Requirement already satisfied: accelerate in /opt/homebrew/lib/python3.11/site-packages (1.11.0)\n",
            "Requirement already satisfied: bitsandbytes in /opt/homebrew/lib/python3.11/site-packages (0.42.0)\n",
            "Requirement already satisfied: filelock in /opt/homebrew/lib/python3.11/site-packages (from transformers) (3.20.0)\n",
            "Requirement already satisfied: huggingface-hub<1.0,>=0.34.0 in /opt/homebrew/lib/python3.11/site-packages (from transformers) (0.36.0)\n",
            "Requirement already satisfied: numpy>=1.17 in /opt/homebrew/lib/python3.11/site-packages (from transformers) (2.3.3)\n",
            "Requirement already satisfied: packaging>=20.0 in /opt/homebrew/lib/python3.11/site-packages (from transformers) (25.0)\n",
            "Requirement already satisfied: pyyaml>=5.1 in /opt/homebrew/lib/python3.11/site-packages (from transformers) (6.0.2)\n",
            "Requirement already satisfied: regex!=2019.12.17 in /opt/homebrew/lib/python3.11/site-packages (from transformers) (2025.10.23)\n",
            "Requirement already satisfied: requests in /opt/homebrew/lib/python3.11/site-packages (from transformers) (2.32.5)\n",
            "Requirement already satisfied: tokenizers<=0.23.0,>=0.22.0 in /opt/homebrew/lib/python3.11/site-packages (from transformers) (0.22.1)\n",
            "Requirement already satisfied: safetensors>=0.4.3 in /opt/homebrew/lib/python3.11/site-packages (from transformers) (0.6.2)\n",
            "Requirement already satisfied: tqdm>=4.27 in /opt/homebrew/lib/python3.11/site-packages (from transformers) (4.67.1)\n",
            "Requirement already satisfied: fsspec>=2023.5.0 in /opt/homebrew/lib/python3.11/site-packages (from huggingface-hub<1.0,>=0.34.0->transformers) (2025.9.0)\n",
            "Requirement already satisfied: typing-extensions>=3.7.4.3 in /opt/homebrew/lib/python3.11/site-packages (from huggingface-hub<1.0,>=0.34.0->transformers) (4.15.0)\n",
            "Requirement already satisfied: hf-xet<2.0.0,>=1.1.3 in /opt/homebrew/lib/python3.11/site-packages (from huggingface-hub<1.0,>=0.34.0->transformers) (1.2.0)\n",
            "Requirement already satisfied: psutil in /opt/homebrew/lib/python3.11/site-packages (from accelerate) (7.1.0)\n",
            "Requirement already satisfied: torch>=2.0.0 in /opt/homebrew/lib/python3.11/site-packages (from accelerate) (2.8.0)\n",
            "Requirement already satisfied: scipy in /opt/homebrew/lib/python3.11/site-packages (from bitsandbytes) (1.16.2)\n",
            "Requirement already satisfied: sympy>=1.13.3 in /opt/homebrew/lib/python3.11/site-packages (from torch>=2.0.0->accelerate) (1.14.0)\n",
            "Requirement already satisfied: networkx in /opt/homebrew/lib/python3.11/site-packages (from torch>=2.0.0->accelerate) (3.5)\n",
            "Requirement already satisfied: jinja2 in /opt/homebrew/lib/python3.11/site-packages (from torch>=2.0.0->accelerate) (3.1.6)\n",
            "Requirement already satisfied: mpmath<1.4,>=1.1.0 in /opt/homebrew/lib/python3.11/site-packages (from sympy>=1.13.3->torch>=2.0.0->accelerate) (1.3.0)\n",
            "Requirement already satisfied: MarkupSafe>=2.0 in /opt/homebrew/lib/python3.11/site-packages (from jinja2->torch>=2.0.0->accelerate) (3.0.2)\n",
            "Requirement already satisfied: charset_normalizer<4,>=2 in /opt/homebrew/lib/python3.11/site-packages (from requests->transformers) (3.4.3)\n",
            "Requirement already satisfied: idna<4,>=2.5 in /opt/homebrew/lib/python3.11/site-packages (from requests->transformers) (3.10)\n",
            "Requirement already satisfied: urllib3<3,>=1.21.1 in /opt/homebrew/lib/python3.11/site-packages (from requests->transformers) (2.5.0)\n",
            "Requirement already satisfied: certifi>=2017.4.17 in /opt/homebrew/lib/python3.11/site-packages (from requests->transformers) (2025.8.3)\n",
            "\n",
            "\u001b[1m[\u001b[0m\u001b[34;49mnotice\u001b[0m\u001b[1;39;49m]\u001b[0m\u001b[39;49m A new release of pip is available: \u001b[0m\u001b[31;49m25.2\u001b[0m\u001b[39;49m -> \u001b[0m\u001b[32;49m25.3\u001b[0m\n",
            "\u001b[1m[\u001b[0m\u001b[34;49mnotice\u001b[0m\u001b[1;39;49m]\u001b[0m\u001b[39;49m To update, run: \u001b[0m\u001b[32;49m/opt/homebrew/opt/python@3.11/bin/python3.11 -m pip install --upgrade pip\u001b[0m\n"
          ]
        }
      ],
      "source": [
        "!pip install yfinance torch transformers\n",
        "!pip install transformers accelerate bitsandbytes\n",
        "\n",
        "\n"
      ]
    },
    {
      "cell_type": "code",
      "execution_count": 10,
      "metadata": {
        "colab": {
          "base_uri": "https://localhost:8080/",
          "height": 322
        },
        "id": "mm7mf4KJRvnp",
        "outputId": "4495de25-029a-4208-b80d-ea05d988f65e"
      },
      "outputs": [
        {
          "name": "stderr",
          "output_type": "stream",
          "text": [
            "/var/folders/54/vyhscs1x4378wr1lbytk_fj00000gn/T/ipykernel_80868/2273444151.py:4: FutureWarning: YF.download() has changed argument auto_adjust default to True\n",
            "  data = yf.download(\"AAPL\", start=\"2015-01-01\", end=\"2025-01-01\", interval=\"1d\")\n",
            "[*********************100%***********************]  1 of 1 completed\n"
          ]
        },
        {
          "data": {
            "text/html": [
              "<div>\n",
              "<style scoped>\n",
              "    .dataframe tbody tr th:only-of-type {\n",
              "        vertical-align: middle;\n",
              "    }\n",
              "\n",
              "    .dataframe tbody tr th {\n",
              "        vertical-align: top;\n",
              "    }\n",
              "\n",
              "    .dataframe thead tr th {\n",
              "        text-align: left;\n",
              "    }\n",
              "\n",
              "    .dataframe thead tr:last-of-type th {\n",
              "        text-align: right;\n",
              "    }\n",
              "</style>\n",
              "<table border=\"1\" class=\"dataframe\">\n",
              "  <thead>\n",
              "    <tr>\n",
              "      <th>Price</th>\n",
              "      <th>Close</th>\n",
              "      <th>High</th>\n",
              "      <th>Low</th>\n",
              "      <th>Open</th>\n",
              "      <th>Volume</th>\n",
              "      <th>return</th>\n",
              "    </tr>\n",
              "    <tr>\n",
              "      <th>Ticker</th>\n",
              "      <th>AAPL</th>\n",
              "      <th>AAPL</th>\n",
              "      <th>AAPL</th>\n",
              "      <th>AAPL</th>\n",
              "      <th>AAPL</th>\n",
              "      <th></th>\n",
              "    </tr>\n",
              "    <tr>\n",
              "      <th>Date</th>\n",
              "      <th></th>\n",
              "      <th></th>\n",
              "      <th></th>\n",
              "      <th></th>\n",
              "      <th></th>\n",
              "      <th></th>\n",
              "    </tr>\n",
              "  </thead>\n",
              "  <tbody>\n",
              "    <tr>\n",
              "      <th>2015-01-05</th>\n",
              "      <td>23.577576</td>\n",
              "      <td>24.110152</td>\n",
              "      <td>23.391175</td>\n",
              "      <td>24.030265</td>\n",
              "      <td>257142000</td>\n",
              "      <td>-0.028172</td>\n",
              "    </tr>\n",
              "    <tr>\n",
              "      <th>2015-01-06</th>\n",
              "      <td>23.579796</td>\n",
              "      <td>23.839426</td>\n",
              "      <td>23.218087</td>\n",
              "      <td>23.641929</td>\n",
              "      <td>263188400</td>\n",
              "      <td>0.000094</td>\n",
              "    </tr>\n",
              "    <tr>\n",
              "      <th>2015-01-07</th>\n",
              "      <td>23.910433</td>\n",
              "      <td>24.010290</td>\n",
              "      <td>23.677430</td>\n",
              "      <td>23.788384</td>\n",
              "      <td>160423600</td>\n",
              "      <td>0.014022</td>\n",
              "    </tr>\n",
              "    <tr>\n",
              "      <th>2015-01-08</th>\n",
              "      <td>24.829128</td>\n",
              "      <td>24.886824</td>\n",
              "      <td>24.121246</td>\n",
              "      <td>24.238858</td>\n",
              "      <td>237458000</td>\n",
              "      <td>0.038422</td>\n",
              "    </tr>\n",
              "    <tr>\n",
              "      <th>2015-01-09</th>\n",
              "      <td>24.855751</td>\n",
              "      <td>25.130915</td>\n",
              "      <td>24.456319</td>\n",
              "      <td>25.002208</td>\n",
              "      <td>214798000</td>\n",
              "      <td>0.001072</td>\n",
              "    </tr>\n",
              "  </tbody>\n",
              "</table>\n",
              "</div>"
            ],
            "text/plain": [
              "Price           Close       High        Low       Open     Volume    return\n",
              "Ticker           AAPL       AAPL       AAPL       AAPL       AAPL          \n",
              "Date                                                                       \n",
              "2015-01-05  23.577576  24.110152  23.391175  24.030265  257142000 -0.028172\n",
              "2015-01-06  23.579796  23.839426  23.218087  23.641929  263188400  0.000094\n",
              "2015-01-07  23.910433  24.010290  23.677430  23.788384  160423600  0.014022\n",
              "2015-01-08  24.829128  24.886824  24.121246  24.238858  237458000  0.038422\n",
              "2015-01-09  24.855751  25.130915  24.456319  25.002208  214798000  0.001072"
            ]
          },
          "execution_count": 10,
          "metadata": {},
          "output_type": "execute_result"
        }
      ],
      "source": [
        "import yfinance as yf\n",
        "import pandas as pd\n",
        "\n",
        "data = yf.download(\"AAPL\", start=\"2015-01-01\", end=\"2025-01-01\", interval=\"1d\")\n",
        "\n",
        "data['return'] = data['Close'].pct_change()\n",
        "data = data.dropna()\n",
        "\n",
        "data.head()\n"
      ]
    },
    {
      "cell_type": "code",
      "execution_count": 11,
      "metadata": {
        "id": "UWyb0iLqRx3Y"
      },
      "outputs": [],
      "source": [
        "import numpy as np\n",
        "\n",
        "window_size = 7  # how many previous days to use\n",
        "returns = data['return'].values\n",
        "\n",
        "X, y = [], []\n",
        "for i in range(window_size, len(returns) - 1):\n",
        "    X.append(returns[i - window_size:i])\n",
        "    y.append(returns[i])\n",
        "X, y = np.array(X), np.array(y)\n"
      ]
    },
    {
      "cell_type": "code",
      "execution_count": 12,
      "metadata": {
        "id": "zYN9PhhpRzXd"
      },
      "outputs": [],
      "source": [
        "import torch\n",
        "import torch.nn as nn\n",
        "from transformers import GPT2Config, GPT2Model\n",
        "\n",
        "class StockLLM(nn.Module):\n",
        "    def __init__(self, hidden=32, n_layer=2, n_head=2):\n",
        "        super().__init__()\n",
        "        config = GPT2Config(\n",
        "            n_embd=hidden,\n",
        "            n_layer=n_layer,\n",
        "            n_head=n_head,\n",
        "            vocab_size=1_000,   # dummy\n",
        "            n_positions=128,\n",
        "            n_ctx=128,\n",
        "        )\n",
        "        self.backbone = GPT2Model(config)\n",
        "        self.input_proj = nn.Linear(1, hidden)\n",
        "        self.reg_head = nn.Linear(hidden, 1)\n",
        "\n",
        "    def forward(self, x):\n",
        "        # x: [batch, seq_len]\n",
        "        x = x.unsqueeze(-1)  # [batch, seq_len, 1]\n",
        "        emb = self.input_proj(x)\n",
        "        out = self.backbone(inputs_embeds=emb).last_hidden_state\n",
        "        pred = self.reg_head(out[:, -1, :])\n",
        "        return pred.squeeze(-1)\n",
        "    \n"
      ]
    },
    {
      "cell_type": "code",
      "execution_count": 13,
      "metadata": {
        "colab": {
          "base_uri": "https://localhost:8080/"
        },
        "id": "yjDD_8-yR1GJ",
        "outputId": "09a91c46-50df-49ee-913c-e902ebc7c42a"
      },
      "outputs": [
        {
          "name": "stdout",
          "output_type": "stream",
          "text": [
            "Epoch 1: MSE=0.08815694768868741\n",
            "Epoch 2: MSE=0.026365512568089697\n",
            "Epoch 3: MSE=0.023879536013636325\n",
            "Epoch 4: MSE=0.01896715925503818\n",
            "Epoch 5: MSE=0.016463146108897434\n",
            "\n",
            "Epoch 1: MSE=0.014334006722839106\n",
            "Epoch 2: MSE=0.015238181000486725\n",
            "Epoch 3: MSE=0.014048440647976739\n",
            "Epoch 4: MSE=0.013487857286005265\n",
            "Epoch 5: MSE=0.01236210385751393\n",
            "\n",
            "Epoch 1: MSE=0.013052140185165973\n",
            "Epoch 2: MSE=0.013793888989658583\n",
            "Epoch 3: MSE=0.012487816905218458\n",
            "Epoch 4: MSE=0.012011347094639427\n",
            "Epoch 5: MSE=0.012928040535558783\n",
            "\n"
          ]
        }
      ],
      "source": [
        "from torch.utils.data import TensorDataset, DataLoader\n",
        "\n",
        "# Train/test split\n",
        "split = int(0.8 * len(X))\n",
        "X_train, X_test = X[:split], X[split:]\n",
        "y_train, y_test = y[:split], y[split:]\n",
        "\n",
        "# Convert to tensors\n",
        "train_ds = TensorDataset(torch.tensor(X_train, dtype=torch.float32),\n",
        "                         torch.tensor(y_train, dtype=torch.float32))\n",
        "train_dl = DataLoader(train_ds, batch_size=32, shuffle=True)\n",
        "\n",
        "model = StockLLM()\n",
        "opt = torch.optim.AdamW(model.parameters(), lr=1e-4)\n",
        "loss_fn = nn.MSELoss()\n",
        "\n",
        "for param in model.backbone.parameters():\n",
        "    param.requires_grad = False\n",
        "\n",
        "optimizer = torch.optim.AdamW(\n",
        "    list(model.input_proj.parameters()) + list(model.reg_head.parameters()),\n",
        "    lr=1e-3\n",
        ")\n",
        "\n",
        "def train_model(num_epochs):\n",
        "  for epoch in range(num_epochs):\n",
        "      model.train()\n",
        "      total_loss = 0\n",
        "      total_mse = 0\n",
        "\n",
        "      for xb, yb in train_dl:\n",
        "          optimizer.zero_grad()\n",
        "          pred = model(xb)\n",
        "          loss = loss_fn(pred, yb)\n",
        "          loss.backward()\n",
        "          optimizer.step()\n",
        "          total_loss += loss.item()\n",
        "\n",
        "\n",
        "\n",
        "      avg_loss = total_loss / len(train_dl)\n",
        "      print(f\"Epoch {epoch+1}: \"\n",
        "              f\"MSE={avg_loss}\")\n",
        "\n",
        "train_model(5)\n",
        "print()\n",
        "\n",
        "def unfreeze_layers(model, n_unfreeze):\n",
        "    layers = list(model.backbone.h)  # transformer blocks\n",
        "    for layer in layers[-n_unfreeze:]:\n",
        "        for param in layer.parameters():\n",
        "            param.requires_grad = True\n",
        "\n",
        "unfreeze_layers(model, n_unfreeze=2)\n",
        "optimizer = torch.optim.AdamW(filter(lambda p: p.requires_grad, model.parameters()), lr=1e-5)\n",
        "\n",
        "train_model(5)\n",
        "print()\n",
        "\n",
        "for param in model.backbone.parameters():\n",
        "    param.requires_grad = True\n",
        "\n",
        "optimizer = torch.optim.AdamW(model.parameters(), lr=1e-7)\n",
        "train_model(5)\n",
        "print()"
      ]
    },
    {
      "cell_type": "code",
      "execution_count": 14,
      "metadata": {
        "colab": {
          "base_uri": "https://localhost:8080/"
        },
        "id": "3DGOw7MiR2p4",
        "outputId": "390e4ced-a808-4184-f70a-c656bf707166"
      },
      "outputs": [
        {
          "name": "stdout",
          "output_type": "stream",
          "text": [
            "MSE: 0.000219\n",
            "Directional Accuracy: 56.37%\n"
          ]
        }
      ],
      "source": [
        "model.eval()\n",
        "with torch.no_grad():\n",
        "    X_test_t = torch.tensor(X_test, dtype=torch.float32)\n",
        "    y_test_t = torch.tensor(y_test, dtype=torch.float32)\n",
        "    preds = model(X_test_t)\n",
        "\n",
        "mse = ((preds - y_test_t)**2).mean().item()\n",
        "direction_acc = ((torch.sign(preds) == torch.sign(y_test_t)).float().mean().item())\n",
        "\n",
        "print(f\"MSE: {mse:.6f}\")\n",
        "print(f\"Directional Accuracy: {direction_acc*100:.2f}%\")\n"
      ]
    },
    {
      "cell_type": "code",
      "execution_count": 15,
      "metadata": {
        "id": "OC3uUT0Sc2ZO"
      },
      "outputs": [],
      "source": [
        "torch.save(model.state_dict(), \"model.pt\")  # only save weights\n"
      ]
    }
  ],
  "metadata": {
    "colab": {
      "provenance": []
    },
    "kernelspec": {
      "display_name": "Python 3",
      "name": "python3"
    },
    "language_info": {
      "codemirror_mode": {
        "name": "ipython",
        "version": 3
      },
      "file_extension": ".py",
      "mimetype": "text/x-python",
      "name": "python",
      "nbconvert_exporter": "python",
      "pygments_lexer": "ipython3",
      "version": "3.11.13"
    }
  },
  "nbformat": 4,
  "nbformat_minor": 0
}
